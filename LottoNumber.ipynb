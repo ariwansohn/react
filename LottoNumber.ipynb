{
  "nbformat": 4,
  "nbformat_minor": 0,
  "metadata": {
    "colab": {
      "provenance": [],
      "authorship_tag": "ABX9TyMtqLNsCIrFGXDwyt7BmsF+",
      "include_colab_link": true
    },
    "kernelspec": {
      "name": "python3",
      "display_name": "Python 3"
    },
    "language_info": {
      "name": "python"
    }
  },
  "cells": [
    {
      "cell_type": "markdown",
      "metadata": {
        "id": "view-in-github",
        "colab_type": "text"
      },
      "source": [
        "<a href=\"https://colab.research.google.com/github/ariwansohn/react/blob/master/LottoNumber.ipynb\" target=\"_parent\"><img src=\"https://colab.research.google.com/assets/colab-badge.svg\" alt=\"Open In Colab\"/></a>"
      ]
    },
    {
      "cell_type": "code",
      "source": [
        "import random\n",
        "\n",
        "def generate_lottery_number():\n",
        "  # Generate a random 6-digit lottery number\n",
        "  lottery_number = \"\"\n",
        "  for i in range(6):\n",
        "    lottery_number += \",\" + str(random.randint(1, 45))\n",
        "  return lottery_number\n",
        "\n",
        "print(generate_lottery_number())"
      ],
      "metadata": {
        "colab": {
          "base_uri": "https://localhost:8080/"
        },
        "id": "3uHXNb4RFt6E",
        "outputId": "653edbef-d389-4a80-cc61-c9f45e2b0a70"
      },
      "execution_count": 8,
      "outputs": [
        {
          "output_type": "stream",
          "name": "stdout",
          "text": [
            ",13,5,16,27,9,5\n"
          ]
        }
      ]
    }
  ]
}